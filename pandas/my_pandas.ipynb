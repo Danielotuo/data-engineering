{
 "cells": [
  {
   "cell_type": "code",
   "execution_count": 1,
   "metadata": {},
   "outputs": [],
   "source": [
    "import pandas as pd"
   ]
  },
  {
   "cell_type": "code",
   "execution_count": 7,
   "metadata": {},
   "outputs": [],
   "source": [
    "# load csv file\n",
    "e_commerce_data_path_csv = \"../data/data.csv\"\n",
    "e_commerce_csv_df = pd.read_csv(\n",
    "    e_commerce_data_path_csv, encoding=\"unicode_escape\", nrows=1000\n",
    ")"
   ]
  },
  {
   "cell_type": "code",
   "execution_count": 8,
   "metadata": {},
   "outputs": [
    {
     "name": "stdout",
     "output_type": "stream",
     "text": [
      "Index(['InvoiceNo', 'StockCode', 'Description', 'Quantity', 'InvoiceDate',\n",
      "       'UnitPrice', 'CustomerID', 'Country'],\n",
      "      dtype='object')\n"
     ]
    }
   ],
   "source": [
    "# show columns\n",
    "print(e_commerce_csv_df.columns)"
   ]
  },
  {
   "cell_type": "code",
   "execution_count": 10,
   "metadata": {},
   "outputs": [
    {
     "name": "stdout",
     "output_type": "stream",
     "text": [
      "    InvoiceNo StockCode                          Description  Quantity  \\\n",
      "0      536365    85123A   WHITE HANGING HEART T-LIGHT HOLDER         6   \n",
      "1      536365     71053                  WHITE METAL LANTERN         6   \n",
      "2      536365    84406B       CREAM CUPID HEARTS COAT HANGER         8   \n",
      "3      536365    84029G  KNITTED UNION FLAG HOT WATER BOTTLE         6   \n",
      "4      536365    84029E       RED WOOLLY HOTTIE WHITE HEART.         6   \n",
      "..        ...       ...                                  ...       ...   \n",
      "995    536520     22469                HEART OF WICKER SMALL         1   \n",
      "996    536520     22100             SKULLS SQUARE TISSUE BOX         1   \n",
      "997    536520     22096      PINK PAISLEY SQUARE TISSUE BOX          1   \n",
      "998    536520     22583         PACK OF 6 HANDBAG GIFT BOXES         1   \n",
      "999    536520     21358           TOAST ITS - HAPPY BIRTHDAY         2   \n",
      "\n",
      "         InvoiceDate  UnitPrice  CustomerID         Country  \n",
      "0     12/1/2010 8:26       2.55     17850.0  United Kingdom  \n",
      "1     12/1/2010 8:26       3.39     17850.0  United Kingdom  \n",
      "2     12/1/2010 8:26       2.75     17850.0  United Kingdom  \n",
      "3     12/1/2010 8:26       3.39     17850.0  United Kingdom  \n",
      "4     12/1/2010 8:26       3.39     17850.0  United Kingdom  \n",
      "..               ...        ...         ...             ...  \n",
      "995  12/1/2010 12:43       1.65     14729.0  United Kingdom  \n",
      "996  12/1/2010 12:43       1.25     14729.0  United Kingdom  \n",
      "997  12/1/2010 12:43       1.25     14729.0  United Kingdom  \n",
      "998  12/1/2010 12:43       2.55     14729.0  United Kingdom  \n",
      "999  12/1/2010 12:43       1.25     14729.0  United Kingdom  \n",
      "\n",
      "[1000 rows x 8 columns]\n"
     ]
    }
   ],
   "source": [
    "print(e_commerce_csv_df)"
   ]
  },
  {
   "cell_type": "code",
   "execution_count": 11,
   "metadata": {},
   "outputs": [
    {
     "name": "stdout",
     "output_type": "stream",
     "text": [
      "InvoiceNo       object\n",
      "StockCode       object\n",
      "Description     object\n",
      "Quantity         int64\n",
      "InvoiceDate     object\n",
      "UnitPrice      float64\n",
      "CustomerID     float64\n",
      "Country         object\n",
      "dtype: object\n"
     ]
    }
   ],
   "source": [
    "# Working with Datatypes\n",
    "print(e_commerce_csv_df.dtypes)"
   ]
  },
  {
   "cell_type": "code",
   "execution_count": 12,
   "metadata": {},
   "outputs": [
    {
     "name": "stdout",
     "output_type": "stream",
     "text": [
      "InvoiceNo      string[python]\n",
      "StockCode      string[python]\n",
      "Description    string[python]\n",
      "Quantity                Int64\n",
      "InvoiceDate    string[python]\n",
      "UnitPrice             Float64\n",
      "CustomerID              Int64\n",
      "Country        string[python]\n",
      "dtype: object\n"
     ]
    }
   ],
   "source": [
    "# check the datatypes in python\n",
    "e_commerce_csv_df = e_commerce_csv_df.convert_dtypes()\n",
    "print(e_commerce_csv_df.dtypes)"
   ]
  },
  {
   "cell_type": "code",
   "execution_count": 13,
   "metadata": {},
   "outputs": [
    {
     "name": "stdout",
     "output_type": "stream",
     "text": [
      "InvoiceNo      string[python]\n",
      "StockCode      string[python]\n",
      "Description    string[python]\n",
      "Quantity              float64\n",
      "InvoiceDate    string[python]\n",
      "UnitPrice             Float64\n",
      "CustomerID            float64\n",
      "Country        string[python]\n",
      "dtype: object\n"
     ]
    }
   ],
   "source": [
    "# Cast a pandas object to a specified dtype via dictionary, quantity from int64 to float64, and customerID from int64 to flat64. This\n",
    "# is just a dummy example.\n",
    "\n",
    "temp_e_commerce_csv_df = e_commerce_csv_df.astype(\n",
    "    {'Quantity': 'float64', 'CustomerID': 'float64'})\n",
    "print(temp_e_commerce_csv_df.dtypes)"
   ]
  },
  {
   "cell_type": "code",
   "execution_count": 19,
   "metadata": {},
   "outputs": [
    {
     "name": "stdout",
     "output_type": "stream",
     "text": [
      "1004\n"
     ]
    }
   ],
   "source": [
    "# reading json and appending dataframes\n",
    "\n",
    "e_commerce_data_path_json = '../data/data_subset.json'\n",
    "e_commerce_json_df = pd.read_json(\n",
    "    e_commerce_data_path_json, encoding='unicode_escape')\n",
    "\n",
    "print(len(e_commerce_json_df) + len(e_commerce_csv_df))"
   ]
  },
  {
   "cell_type": "code",
   "execution_count": 21,
   "metadata": {},
   "outputs": [
    {
     "name": "stdout",
     "output_type": "stream",
     "text": [
      "     InvoiceNo StockCode                          Description  Quantity  \\\n",
      "0       536365    85123A   WHITE HANGING HEART T-LIGHT HOLDER         6   \n",
      "1       536365     71053                  WHITE METAL LANTERN         6   \n",
      "2       536365    84406B       CREAM CUPID HEARTS COAT HANGER         8   \n",
      "3       536365    84029G  KNITTED UNION FLAG HOT WATER BOTTLE         6   \n",
      "4       536365    84029E       RED WOOLLY HOTTIE WHITE HEART.         6   \n",
      "...        ...       ...                                  ...       ...   \n",
      "999     536520     21358           TOAST ITS - HAPPY BIRTHDAY         2   \n",
      "1000    536370     22492               MINI PAINT SET VINTAGE        36   \n",
      "1001    536372     22632            HAND WARMER RED POLKA DOT         6   \n",
      "1002    536389     22727             ALARM CLOCK BAKELIKE RED         4   \n",
      "1003    562106     22993         SET OF 4 PANTRY JELLY MOULDS         1   \n",
      "\n",
      "          InvoiceDate  UnitPrice  CustomerID         Country  \n",
      "0      12/1/2010 8:26       2.55       17850  United Kingdom  \n",
      "1      12/1/2010 8:26       3.39       17850  United Kingdom  \n",
      "2      12/1/2010 8:26       2.75       17850  United Kingdom  \n",
      "3      12/1/2010 8:26       3.39       17850  United Kingdom  \n",
      "4      12/1/2010 8:26       3.39       17850  United Kingdom  \n",
      "...               ...        ...         ...             ...  \n",
      "999   12/1/2010 12:43       1.25       14729  United Kingdom  \n",
      "1000   12/1/2010 8:45       0.65       12583          France  \n",
      "1001   12/1/2010 9:01       1.85       17850  United Kingdom  \n",
      "1002  12/1/2010 10:03       3.75       12431       Australia  \n",
      "1003   8/2/2011 15:19       1.25       14076  United Kingdom  \n",
      "\n",
      "[1004 rows x 8 columns]\n"
     ]
    }
   ],
   "source": [
    "# append the json and csv to a new dataframe\n",
    "e_commerce_appended_df = pd.concat(\n",
    "    [e_commerce_csv_df, e_commerce_json_df], ignore_index=True)\n",
    "print(e_commerce_appended_df)"
   ]
  },
  {
   "cell_type": "code",
   "execution_count": 22,
   "metadata": {},
   "outputs": [
    {
     "name": "stdout",
     "output_type": "stream",
     "text": [
      "  InvoiceNo StockCode                          Description  Quantity  \\\n",
      "0    536365    85123A   WHITE HANGING HEART T-LIGHT HOLDER         6   \n",
      "1    536365     71053                  WHITE METAL LANTERN         6   \n",
      "2    536365    84406B       CREAM CUPID HEARTS COAT HANGER         8   \n",
      "3    536365    84029G  KNITTED UNION FLAG HOT WATER BOTTLE         6   \n",
      "4    536365    84029E       RED WOOLLY HOTTIE WHITE HEART.         6   \n",
      "\n",
      "      InvoiceDate  UnitPrice  CustomerID         Country  \n",
      "0  12/1/2010 8:26       2.55       17850  United Kingdom  \n",
      "1  12/1/2010 8:26       3.39       17850  United Kingdom  \n",
      "2  12/1/2010 8:26       2.75       17850  United Kingdom  \n",
      "3  12/1/2010 8:26       3.39       17850  United Kingdom  \n",
      "4  12/1/2010 8:26       3.39       17850  United Kingdom  \n"
     ]
    }
   ],
   "source": [
    "# print out first few rows of the dataframe\n",
    "print(e_commerce_appended_df.head())"
   ]
  },
  {
   "cell_type": "code",
   "execution_count": 23,
   "metadata": {},
   "outputs": [
    {
     "name": "stdout",
     "output_type": "stream",
     "text": [
      "     InvoiceNo StockCode                   Description  Quantity  \\\n",
      "999     536520     21358    TOAST ITS - HAPPY BIRTHDAY         2   \n",
      "1000    536370     22492        MINI PAINT SET VINTAGE        36   \n",
      "1001    536372     22632     HAND WARMER RED POLKA DOT         6   \n",
      "1002    536389     22727      ALARM CLOCK BAKELIKE RED         4   \n",
      "1003    562106     22993  SET OF 4 PANTRY JELLY MOULDS         1   \n",
      "\n",
      "          InvoiceDate  UnitPrice  CustomerID         Country  \n",
      "999   12/1/2010 12:43       1.25       14729  United Kingdom  \n",
      "1000   12/1/2010 8:45       0.65       12583          France  \n",
      "1001   12/1/2010 9:01       1.85       17850  United Kingdom  \n",
      "1002  12/1/2010 10:03       3.75       12431       Australia  \n",
      "1003   8/2/2011 15:19       1.25       14076  United Kingdom  \n"
     ]
    }
   ],
   "source": [
    "# print out last few rows of the dataframe\n",
    "print(e_commerce_appended_df.tail())"
   ]
  },
  {
   "cell_type": "code",
   "execution_count": 24,
   "metadata": {},
   "outputs": [
    {
     "name": "stdout",
     "output_type": "stream",
     "text": [
      "          Country Language\n",
      "0  United Kingdom  English\n",
      "1          France   French\n",
      "2       Australia  English\n",
      "3     Netherlands    Dutch\n"
     ]
    },
    {
     "name": "stderr",
     "output_type": "stream",
     "text": [
      "C:\\Users\\danid\\AppData\\Local\\Temp\\ipykernel_7244\\1867008878.py:4: FutureWarning: Passing literal json to 'read_json' is deprecated and will be removed in a future version. To read from a literal string, wrap it in a 'StringIO' object.\n",
      "  json_df = pd.read_json(my_json)\n"
     ]
    }
   ],
   "source": [
    "# Merging of dataframes, create a json_df\n",
    "\n",
    "my_json = '{\"Country\" : [\"United Kingdom\", \"France\", \"Australia\", \"Netherlands\"], \"Language\":[\"English\" , \"French\", \"English\" , \"Dutch\"]}'\n",
    "json_df = pd.read_json(my_json)\n",
    "print(json_df)"
   ]
  },
  {
   "cell_type": "code",
   "execution_count": 26,
   "metadata": {},
   "outputs": [
    {
     "name": "stdout",
     "output_type": "stream",
     "text": [
      "    InvoiceNo StockCode                          Description  Quantity  \\\n",
      "0      536365    85123A   WHITE HANGING HEART T-LIGHT HOLDER         6   \n",
      "1      536365     71053                  WHITE METAL LANTERN         6   \n",
      "2      536365    84406B       CREAM CUPID HEARTS COAT HANGER         8   \n",
      "3      536365    84029G  KNITTED UNION FLAG HOT WATER BOTTLE         6   \n",
      "4      536365    84029E       RED WOOLLY HOTTIE WHITE HEART.         6   \n",
      "..        ...       ...                                  ...       ...   \n",
      "995    536520     22469                HEART OF WICKER SMALL         1   \n",
      "996    536520     22100             SKULLS SQUARE TISSUE BOX         1   \n",
      "997    536520     22096      PINK PAISLEY SQUARE TISSUE BOX          1   \n",
      "998    536520     22583         PACK OF 6 HANDBAG GIFT BOXES         1   \n",
      "999    536520     21358           TOAST ITS - HAPPY BIRTHDAY         2   \n",
      "\n",
      "         InvoiceDate  UnitPrice  CustomerID         Country Language  \n",
      "0     12/1/2010 8:26       2.55       17850  United Kingdom  English  \n",
      "1     12/1/2010 8:26       3.39       17850  United Kingdom  English  \n",
      "2     12/1/2010 8:26       2.75       17850  United Kingdom  English  \n",
      "3     12/1/2010 8:26       3.39       17850  United Kingdom  English  \n",
      "4     12/1/2010 8:26       3.39       17850  United Kingdom  English  \n",
      "..               ...        ...         ...             ...      ...  \n",
      "995  12/1/2010 12:43       1.65       14729  United Kingdom  English  \n",
      "996  12/1/2010 12:43       1.25       14729  United Kingdom  English  \n",
      "997  12/1/2010 12:43       1.25       14729  United Kingdom  English  \n",
      "998  12/1/2010 12:43       2.55       14729  United Kingdom  English  \n",
      "999  12/1/2010 12:43       1.25       14729  United Kingdom  English  \n",
      "\n",
      "[1000 rows x 9 columns]\n"
     ]
    }
   ],
   "source": [
    "# Merging of json_df and e_commerce_csv_df\n",
    "e_commerce_csv_df = e_commerce_csv_df.merge(json_df, on=\"Country\")\n",
    "print(e_commerce_csv_df)"
   ]
  },
  {
   "cell_type": "code",
   "execution_count": 28,
   "metadata": {},
   "outputs": [
    {
     "name": "stdout",
     "output_type": "stream",
     "text": [
      "InvoiceNo       object\n",
      "StockCode       object\n",
      "Description     object\n",
      "Quantity         Int64\n",
      "InvoiceDate     object\n",
      "UnitPrice      Float64\n",
      "CustomerID       Int64\n",
      "Country         object\n",
      "dtype: object\n"
     ]
    }
   ],
   "source": [
    "# check appended_csv  datatypes\n",
    "print(e_commerce_appended_df.dtypes)"
   ]
  },
  {
   "cell_type": "code",
   "execution_count": 29,
   "metadata": {},
   "outputs": [
    {
     "name": "stdout",
     "output_type": "stream",
     "text": [
      "InvoiceNo              object\n",
      "StockCode              object\n",
      "Description            object\n",
      "Quantity                Int64\n",
      "InvoiceDate    datetime64[ns]\n",
      "UnitPrice             Float64\n",
      "CustomerID              Int64\n",
      "Country                object\n",
      "dtype: object\n"
     ]
    }
   ],
   "source": [
    "# change invoice_date to datetime\n",
    "e_commerce_appended_df['InvoiceDate'] = pd.to_datetime(\n",
    "    e_commerce_appended_df['InvoiceDate'])\n",
    "print(e_commerce_appended_df.dtypes)"
   ]
  },
  {
   "cell_type": "code",
   "execution_count": 30,
   "metadata": {},
   "outputs": [
    {
     "data": {
      "text/plain": [
       "1004"
      ]
     },
     "execution_count": 30,
     "metadata": {},
     "output_type": "execute_result"
    }
   ],
   "source": [
    "len(e_commerce_appended_df)"
   ]
  },
  {
   "cell_type": "code",
   "execution_count": 31,
   "metadata": {},
   "outputs": [
    {
     "name": "stdout",
     "output_type": "stream",
     "text": [
      "Index(['InvoiceNo', 'StockCode', 'Description', 'Quantity', 'InvoiceDate',\n",
      "       'UnitPrice', 'CustomerID', 'Country'],\n",
      "      dtype='object')\n"
     ]
    }
   ],
   "source": [
    "print(e_commerce_appended_df.columns)"
   ]
  },
  {
   "cell_type": "code",
   "execution_count": 36,
   "metadata": {},
   "outputs": [
    {
     "name": "stdout",
     "output_type": "stream",
     "text": [
      "Index(['InvoiceNo', 'StockCode', 'Description', 'InvoiceDate', 'CustomerID'], dtype='object')\n"
     ]
    }
   ],
   "source": [
    "# drop country and quantity columns\n",
    "e_commerce_appended_df = e_commerce_appended_df.drop([\"UnitPrice\"], axis=1)\n",
    "print(e_commerce_appended_df.columns)"
   ]
  },
  {
   "cell_type": "code",
   "execution_count": 37,
   "metadata": {},
   "outputs": [
    {
     "name": "stdout",
     "output_type": "stream",
     "text": [
      "Index(['InvoiceNo', 'StockCode', 'Description', 'Quantity', 'InvoiceDate',\n",
      "       'UnitPrice', 'CustomerID', 'Country', 'Language'],\n",
      "      dtype='object')\n"
     ]
    }
   ],
   "source": [
    "# back to e_commerce_csv_df\n",
    "print(e_commerce_csv_df.columns)"
   ]
  },
  {
   "cell_type": "code",
   "execution_count": 39,
   "metadata": {},
   "outputs": [
    {
     "name": "stdout",
     "output_type": "stream",
     "text": [
      "     Quantity  UnitPrice\n",
      "0           6       2.55\n",
      "1           6       3.39\n",
      "2           8       2.75\n",
      "3           6       3.39\n",
      "4           6       3.39\n",
      "..        ...        ...\n",
      "995         1       1.65\n",
      "996         1       1.25\n",
      "997         1       1.25\n",
      "998         1       2.55\n",
      "999         2       1.25\n",
      "\n",
      "[1000 rows x 2 columns]\n"
     ]
    }
   ],
   "source": [
    "# normalize a Pandas Column with Maximum Absolute Scaling using Pandas\n",
    "\n",
    "cols_to_normalize = [\"Quantity\", \"UnitPrice\"]\n",
    "print(e_commerce_csv_df[cols_to_normalize])"
   ]
  },
  {
   "cell_type": "code",
   "execution_count": 40,
   "metadata": {},
   "outputs": [],
   "source": [
    "# define a function to normalize the columns\n",
    "def abs_max_scale(series):\n",
    "    return series.abs() / series.abs().max()\n",
    "\n",
    "\n",
    "for column in cols_to_normalize:\n",
    "    e_commerce_csv_df[column] = abs_max_scale(e_commerce_csv_df[column])"
   ]
  },
  {
   "cell_type": "code",
   "execution_count": 42,
   "metadata": {},
   "outputs": [
    {
     "name": "stdout",
     "output_type": "stream",
     "text": [
      "  InvoiceNo StockCode                          Description  Quantity  \\\n",
      "0    536365    85123A   WHITE HANGING HEART T-LIGHT HOLDER      0.01   \n",
      "1    536365     71053                  WHITE METAL LANTERN      0.01   \n",
      "2    536365    84406B       CREAM CUPID HEARTS COAT HANGER  0.013333   \n",
      "3    536365    84029G  KNITTED UNION FLAG HOT WATER BOTTLE      0.01   \n",
      "4    536365    84029E       RED WOOLLY HOTTIE WHITE HEART.      0.01   \n",
      "\n",
      "      InvoiceDate  UnitPrice  CustomerID         Country Language  \n",
      "0  12/1/2010 8:26   0.015455       17850  United Kingdom  English  \n",
      "1  12/1/2010 8:26   0.020545       17850  United Kingdom  English  \n",
      "2  12/1/2010 8:26   0.016667       17850  United Kingdom  English  \n",
      "3  12/1/2010 8:26   0.020545       17850  United Kingdom  English  \n",
      "4  12/1/2010 8:26   0.020545       17850  United Kingdom  English  \n"
     ]
    }
   ],
   "source": [
    "# show csv_df after normalization\n",
    "print(e_commerce_csv_df.head())"
   ]
  },
  {
   "cell_type": "code",
   "execution_count": 44,
   "metadata": {},
   "outputs": [
    {
     "name": "stdout",
     "output_type": "stream",
     "text": [
      "  InvoiceNo StockCode                          Description  Quantity  \\\n",
      "0    536365    85123A   WHITE HANGING HEART T-LIGHT HOLDER      0.01   \n",
      "1    536365     71053                  WHITE METAL LANTERN      0.01   \n",
      "2    536365    84406B       CREAM CUPID HEARTS COAT HANGER  0.013333   \n",
      "3    536365    84029G  KNITTED UNION FLAG HOT WATER BOTTLE      0.01   \n",
      "4    536365    84029E       RED WOOLLY HOTTIE WHITE HEART.      0.01   \n",
      "\n",
      "      InvoiceDate  UnitPrice  CustomerID         Country Language  \n",
      "0  12/1/2010 8:26   1.545455       17850  United Kingdom  English  \n",
      "1  12/1/2010 8:26   2.054545       17850  United Kingdom  English  \n",
      "2  12/1/2010 8:26   1.666667       17850  United Kingdom  English  \n",
      "3  12/1/2010 8:26   2.054545       17850  United Kingdom  English  \n",
      "4  12/1/2010 8:26   2.054545       17850  United Kingdom  English  \n"
     ]
    }
   ],
   "source": [
    "# do normalization with a lambda function\n",
    "e_commerce_csv_df['UnitPrice'] = e_commerce_csv_df['UnitPrice'].apply(\n",
    "    lambda x: x*100)\n",
    "print(e_commerce_csv_df.head())"
   ]
  },
  {
   "cell_type": "code",
   "execution_count": 45,
   "metadata": {},
   "outputs": [
    {
     "name": "stdout",
     "output_type": "stream",
     "text": [
      "['United Kingdom' 'France' 'Australia' 'Netherlands']\n"
     ]
    }
   ],
   "source": [
    "# get unique values in a column\n",
    "print(e_commerce_csv_df[\"Country\"].unique())"
   ]
  },
  {
   "cell_type": "code",
   "execution_count": 46,
   "metadata": {},
   "outputs": [],
   "source": [
    "# create a unique id column using invoiceNo,stockCode and customerID as type string\n",
    "e_commerce_csv_df['unique_id'] = e_commerce_csv_df['InvoiceNo'].astype(\n",
    "    str) + e_commerce_csv_df['StockCode'].astype(str) + e_commerce_csv_df['CustomerID'].astype(str)"
   ]
  },
  {
   "cell_type": "code",
   "execution_count": 47,
   "metadata": {},
   "outputs": [
    {
     "name": "stdout",
     "output_type": "stream",
     "text": [
      "  InvoiceNo StockCode                          Description  Quantity  \\\n",
      "0    536365    85123A   WHITE HANGING HEART T-LIGHT HOLDER      0.01   \n",
      "1    536365     71053                  WHITE METAL LANTERN      0.01   \n",
      "2    536365    84406B       CREAM CUPID HEARTS COAT HANGER  0.013333   \n",
      "3    536365    84029G  KNITTED UNION FLAG HOT WATER BOTTLE      0.01   \n",
      "4    536365    84029E       RED WOOLLY HOTTIE WHITE HEART.      0.01   \n",
      "\n",
      "      InvoiceDate  UnitPrice  CustomerID         Country Language  \\\n",
      "0  12/1/2010 8:26   1.545455       17850  United Kingdom  English   \n",
      "1  12/1/2010 8:26   2.054545       17850  United Kingdom  English   \n",
      "2  12/1/2010 8:26   1.666667       17850  United Kingdom  English   \n",
      "3  12/1/2010 8:26   2.054545       17850  United Kingdom  English   \n",
      "4  12/1/2010 8:26   2.054545       17850  United Kingdom  English   \n",
      "\n",
      "           unique_id  \n",
      "0  53636585123A17850  \n",
      "1   5363657105317850  \n",
      "2  53636584406B17850  \n",
      "3  53636584029G17850  \n",
      "4  53636584029E17850  \n"
     ]
    }
   ],
   "source": [
    "print(e_commerce_csv_df.head())"
   ]
  },
  {
   "cell_type": "code",
   "execution_count": 49,
   "metadata": {},
   "outputs": [],
   "source": [
    "# pivot table from the e_commerce_csv_df DataFrame\n",
    "e_commerce_pivoted = (e_commerce_csv_df\n",
    "                      .filter(items=[\"unique_id\", \"UnitPrice\", \"Country\"])\n",
    "                      .pivot_table(\n",
    "                          index=\"unique_id\",\n",
    "                          columns=\"Country\",  # Column(s) we want to pivot.\n",
    "                          # Column with values that we want to have in our new pivoted columns.\n",
    "                          values=\"UnitPrice\",\n",
    "                          # Even if there is not aggregation we need to provide aggregation funciton.\n",
    "                          aggfunc=\"mean\"\n",
    "                      )\n",
    "                      .reset_index()\n",
    "                      )"
   ]
  },
  {
   "cell_type": "code",
   "execution_count": 50,
   "metadata": {},
   "outputs": [
    {
     "name": "stdout",
     "output_type": "stream",
     "text": [
      "Country          unique_id  Australia  France  Netherlands  United Kingdom\n",
      "0         5363652173017850        NaN     NaN          NaN        2.575758\n",
      "1         5363652275217850        NaN     NaN          NaN        4.636364\n",
      "2         5363657105317850        NaN     NaN          NaN        2.054545\n",
      "3        53636584029E17850        NaN     NaN          NaN        2.054545\n",
      "4        53636584029G17850        NaN     NaN          NaN        2.054545\n",
      "..                     ...        ...     ...          ...             ...\n",
      "940      C5363912198417548        NaN     NaN          NaN        0.175758\n",
      "941      C5363912255317548        NaN     NaN          NaN        1.000000\n",
      "942      C5363912255617548        NaN     NaN          NaN        1.000000\n",
      "943      C5363912255717548        NaN     NaN          NaN        1.000000\n",
      "944      C5365062296017897        NaN     NaN          NaN        2.575758\n",
      "\n",
      "[945 rows x 5 columns]\n"
     ]
    }
   ],
   "source": [
    "print(e_commerce_pivoted)"
   ]
  },
  {
   "cell_type": "code",
   "execution_count": 51,
   "metadata": {},
   "outputs": [],
   "source": [
    "# store dataframe as parquet file\n",
    "e_commerce_pivoted.to_parquet(\"../data/e_commerce_pivoted.parquet.gzip\", compression=\"gzip\")"
   ]
  },
  {
   "cell_type": "code",
   "execution_count": 52,
   "metadata": {},
   "outputs": [
    {
     "name": "stdout",
     "output_type": "stream",
     "text": [
      "Country          unique_id  Australia  France  Netherlands  United Kingdom\n",
      "0         5363652173017850        NaN     NaN          NaN        2.575758\n",
      "1         5363652275217850        NaN     NaN          NaN        4.636364\n",
      "2         5363657105317850        NaN     NaN          NaN        2.054545\n",
      "3        53636584029E17850        NaN     NaN          NaN        2.054545\n",
      "4        53636584029G17850        NaN     NaN          NaN        2.054545\n"
     ]
    }
   ],
   "source": [
    "# read parquet file\n",
    "read_parquet = pd.read_parquet(\"../data/e_commerce_pivoted.parquet.gzip\")\n",
    "print(read_parquet.head())"
   ]
  },
  {
   "cell_type": "code",
   "execution_count": 53,
   "metadata": {},
   "outputs": [
    {
     "name": "stdout",
     "output_type": "stream",
     "text": [
      "   InvoiceNo  StockCode                   Description  Quantity  \\\n",
      "0     536370      22492        MINI PAINT SET VINTAGE        36   \n",
      "1     536372      22632     HAND WARMER RED POLKA DOT         6   \n",
      "2     536389      22727      ALARM CLOCK BAKELIKE RED         4   \n",
      "3     562106      22993  SET OF 4 PANTRY JELLY MOULDS         1   \n",
      "\n",
      "       InvoiceDate  UnitPrice  CustomerID         Country  \n",
      "0   12/1/2010 8:45       0.65       12583          France  \n",
      "1   12/1/2010 9:01       1.85       17850  United Kingdom  \n",
      "2  12/1/2010 10:03       3.75       12431       Australia  \n",
      "3   8/2/2011 15:19       1.25       14076  United Kingdom  \n"
     ]
    }
   ],
   "source": [
    "# melting dataframes\n",
    "print(e_commerce_json_df)"
   ]
  },
  {
   "cell_type": "code",
   "execution_count": 54,
   "metadata": {},
   "outputs": [
    {
     "name": "stdout",
     "output_type": "stream",
     "text": [
      "    InvoiceNo     variable                         value\n",
      "0      536370    StockCode                         22492\n",
      "1      536372    StockCode                         22632\n",
      "2      536389    StockCode                         22727\n",
      "3      562106    StockCode                         22993\n",
      "4      536370  Description        MINI PAINT SET VINTAGE\n",
      "5      536372  Description     HAND WARMER RED POLKA DOT\n",
      "6      536389  Description      ALARM CLOCK BAKELIKE RED\n",
      "7      562106  Description  SET OF 4 PANTRY JELLY MOULDS\n",
      "8      536370     Quantity                            36\n",
      "9      536372     Quantity                             6\n",
      "10     536389     Quantity                             4\n",
      "11     562106     Quantity                             1\n",
      "12     536370  InvoiceDate                12/1/2010 8:45\n",
      "13     536372  InvoiceDate                12/1/2010 9:01\n",
      "14     536389  InvoiceDate               12/1/2010 10:03\n",
      "15     562106  InvoiceDate                8/2/2011 15:19\n",
      "16     536370    UnitPrice                          0.65\n",
      "17     536372    UnitPrice                          1.85\n",
      "18     536389    UnitPrice                          3.75\n",
      "19     562106    UnitPrice                          1.25\n",
      "20     536370   CustomerID                         12583\n",
      "21     536372   CustomerID                         17850\n",
      "22     536389   CustomerID                         12431\n",
      "23     562106   CustomerID                         14076\n",
      "24     536370      Country                        France\n",
      "25     536372      Country                United Kingdom\n",
      "26     536389      Country                     Australia\n",
      "27     562106      Country                United Kingdom\n"
     ]
    }
   ],
   "source": [
    "melted_df = e_commerce_json_df.melt(id_vars=['InvoiceNo'])\n",
    "print(melted_df)"
   ]
  },
  {
   "cell_type": "code",
   "execution_count": 55,
   "metadata": {},
   "outputs": [],
   "source": [
    "# Create a DataFrame\n",
    "hf = pd.DataFrame({\n",
    "    'A': {0: 'a', 1: 'b', 2: 'c'},\n",
    "    'B': {0: 1, 1: 3, 2: 5},\n",
    "    'C': {0: 2, 1: 4, 2: 6}\n",
    "})"
   ]
  },
  {
   "cell_type": "code",
   "execution_count": 56,
   "metadata": {},
   "outputs": [
    {
     "name": "stdout",
     "output_type": "stream",
     "text": [
      "   A  B  C\n",
      "0  a  1  2\n",
      "1  b  3  4\n",
      "2  c  5  6\n"
     ]
    }
   ],
   "source": [
    "print(hf)"
   ]
  },
  {
   "cell_type": "code",
   "execution_count": 60,
   "metadata": {},
   "outputs": [
    {
     "name": "stdout",
     "output_type": "stream",
     "text": [
      "   A variable  value\n",
      "0  a        B      1\n",
      "1  b        B      3\n",
      "2  c        B      5\n",
      "3  a        C      2\n",
      "4  b        C      4\n",
      "5  c        C      6\n"
     ]
    }
   ],
   "source": [
    "melted_hf = pd.melt(hf, id_vars=['A'], value_vars=['B', 'C'])\n",
    "print(melted_hf)"
   ]
  },
  {
   "cell_type": "code",
   "execution_count": 61,
   "metadata": {},
   "outputs": [
    {
     "name": "stdout",
     "output_type": "stream",
     "text": [
      "InvoiceNo      object\n",
      "Quantity        int64\n",
      "InvoiceDate    object\n",
      "CustomerID      int64\n",
      "Country        object\n",
      "item           object\n",
      "dtype: object\n"
     ]
    }
   ],
   "source": [
    "# Flattening (normalizing of ) dataFrames from nested JSONs\n",
    "\n",
    "json_obj = {\n",
    "    'InvoiceNo': '536370',\n",
    "    'Quantity': 36,\n",
    "    'InvoiceDate': '12/1/2010 8:45',\n",
    "    'CustomerID': 2,\n",
    "    'Country': 'France',\n",
    "    'item': {\n",
    "        'StockCode': 'John Kasich',\n",
    "        'Description': 'MINI PAINT SET VINTAGE',\n",
    "        'UnitPrice': 'UnitPrice'}\n",
    "}\n",
    "json_df_raw = pd.DataFrame.from_dict(json_obj)\n",
    "print(json_df_raw.dtypes)"
   ]
  },
  {
   "cell_type": "code",
   "execution_count": 62,
   "metadata": {},
   "outputs": [
    {
     "name": "stdout",
     "output_type": "stream",
     "text": [
      "InvoiceNo           object\n",
      "Quantity             int64\n",
      "InvoiceDate         object\n",
      "CustomerID           int64\n",
      "Country             object\n",
      "item.StockCode      object\n",
      "item.Description    object\n",
      "item.UnitPrice      object\n",
      "dtype: object\n"
     ]
    }
   ],
   "source": [
    "json_df_normalized = pd.json_normalize(json_obj)\n",
    "print(json_df_normalized.dtypes)"
   ]
  },
  {
   "cell_type": "code",
   "execution_count": 63,
   "metadata": {},
   "outputs": [
    {
     "name": "stdout",
     "output_type": "stream",
     "text": [
      "            InvoiceNo  Quantity     InvoiceDate  CustomerID Country  \\\n",
      "StockCode      536370        36  12/1/2010 8:45           2  France   \n",
      "Description    536370        36  12/1/2010 8:45           2  France   \n",
      "UnitPrice      536370        36  12/1/2010 8:45           2  France   \n",
      "\n",
      "                               item  \n",
      "StockCode               John Kasich  \n",
      "Description  MINI PAINT SET VINTAGE  \n",
      "UnitPrice                 UnitPrice  \n"
     ]
    }
   ],
   "source": [
    "print(json_df_raw)"
   ]
  },
  {
   "cell_type": "code",
   "execution_count": 64,
   "metadata": {},
   "outputs": [
    {
     "name": "stdout",
     "output_type": "stream",
     "text": [
      "  InvoiceNo  Quantity     InvoiceDate  CustomerID Country item.StockCode  \\\n",
      "0    536370        36  12/1/2010 8:45           2  France    John Kasich   \n",
      "\n",
      "         item.Description item.UnitPrice  \n",
      "0  MINI PAINT SET VINTAGE      UnitPrice  \n"
     ]
    }
   ],
   "source": [
    "print(json_df_normalized)"
   ]
  },
  {
   "cell_type": "code",
   "execution_count": null,
   "metadata": {},
   "outputs": [],
   "source": []
  }
 ],
 "metadata": {
  "kernelspec": {
   "display_name": "venv",
   "language": "python",
   "name": "python3"
  },
  "language_info": {
   "codemirror_mode": {
    "name": "ipython",
    "version": 3
   },
   "file_extension": ".py",
   "mimetype": "text/x-python",
   "name": "python",
   "nbconvert_exporter": "python",
   "pygments_lexer": "ipython3",
   "version": "3.12.1"
  }
 },
 "nbformat": 4,
 "nbformat_minor": 2
}
